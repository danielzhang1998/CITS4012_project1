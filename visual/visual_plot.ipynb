{
 "cells": [
  {
   "cell_type": "code",
   "execution_count": 133,
   "metadata": {},
   "outputs": [
    {
     "data": {
      "text/html": [
       "<div>\n",
       "<style scoped>\n",
       "    .dataframe tbody tr th:only-of-type {\n",
       "        vertical-align: middle;\n",
       "    }\n",
       "\n",
       "    .dataframe tbody tr th {\n",
       "        vertical-align: top;\n",
       "    }\n",
       "\n",
       "    .dataframe thead th {\n",
       "        text-align: right;\n",
       "    }\n",
       "</style>\n",
       "<table border=\"1\" class=\"dataframe\">\n",
       "  <thead>\n",
       "    <tr style=\"text-align: right;\">\n",
       "      <th></th>\n",
       "      <th>City</th>\n",
       "      <th>Job_Type</th>\n",
       "    </tr>\n",
       "  </thead>\n",
       "  <tbody>\n",
       "    <tr>\n",
       "      <th>0</th>\n",
       "      <td>A</td>\n",
       "      <td>officer</td>\n",
       "    </tr>\n",
       "    <tr>\n",
       "      <th>1</th>\n",
       "      <td>A</td>\n",
       "      <td>Worker</td>\n",
       "    </tr>\n",
       "    <tr>\n",
       "      <th>2</th>\n",
       "      <td>A</td>\n",
       "      <td>Worker</td>\n",
       "    </tr>\n",
       "    <tr>\n",
       "      <th>3</th>\n",
       "      <td>A</td>\n",
       "      <td>officer</td>\n",
       "    </tr>\n",
       "    <tr>\n",
       "      <th>4</th>\n",
       "      <td>B</td>\n",
       "      <td>Worker</td>\n",
       "    </tr>\n",
       "    <tr>\n",
       "      <th>...</th>\n",
       "      <td>...</td>\n",
       "      <td>...</td>\n",
       "    </tr>\n",
       "    <tr>\n",
       "      <th>75</th>\n",
       "      <td>E</td>\n",
       "      <td>Programmer</td>\n",
       "    </tr>\n",
       "    <tr>\n",
       "      <th>76</th>\n",
       "      <td>A</td>\n",
       "      <td>officer</td>\n",
       "    </tr>\n",
       "    <tr>\n",
       "      <th>77</th>\n",
       "      <td>C</td>\n",
       "      <td>cleaner</td>\n",
       "    </tr>\n",
       "    <tr>\n",
       "      <th>78</th>\n",
       "      <td>C</td>\n",
       "      <td>stuff</td>\n",
       "    </tr>\n",
       "    <tr>\n",
       "      <th>79</th>\n",
       "      <td>C</td>\n",
       "      <td>saler</td>\n",
       "    </tr>\n",
       "  </tbody>\n",
       "</table>\n",
       "<p>80 rows × 2 columns</p>\n",
       "</div>"
      ],
      "text/plain": [
       "   City    Job_Type\n",
       "0     A     officer\n",
       "1     A      Worker\n",
       "2     A      Worker\n",
       "3     A     officer\n",
       "4     B      Worker\n",
       "..  ...         ...\n",
       "75    E  Programmer\n",
       "76    A     officer\n",
       "77    C     cleaner\n",
       "78    C       stuff\n",
       "79    C       saler\n",
       "\n",
       "[80 rows x 2 columns]"
      ]
     },
     "execution_count": 133,
     "metadata": {},
     "output_type": "execute_result"
    }
   ],
   "source": [
    "import pandas as pd\n",
    "\n",
    "def load_csv(csv_file):\n",
    "    return pd.read_csv(csv_file)\n",
    "\n",
    "job_data = load_csv(\"test.csv\")\n",
    "\n",
    "job_data"
   ]
  },
  {
   "cell_type": "code",
   "execution_count": 134,
   "metadata": {},
   "outputs": [
    {
     "data": {
      "text/plain": [
       "{'A': {'officer': 7,\n",
       "  'Worker': 6,\n",
       "  'Policeman': 3,\n",
       "  'Waiter': 4,\n",
       "  'driver': 3,\n",
       "  'Fireman': 2,\n",
       "  'Engineer': 3,\n",
       "  'banker': 1},\n",
       " 'B': {'Worker': 4,\n",
       "  'officer': 7,\n",
       "  'Waiter': 4,\n",
       "  'Fireman': 2,\n",
       "  'nurse': 2,\n",
       "  'Engineer': 3,\n",
       "  'Policeman': 3,\n",
       "  'banker': 1,\n",
       "  'doctor': 1},\n",
       " 'C': {'saler': 4, 'stuff': 2, 'cleaner': 3},\n",
       " 'E': {'Programmer': 4, 'Boss': 1, 'artist': 4, 'Singer': 2},\n",
       " 'D': {'CEO': 3, 'homeless': 1}}"
      ]
     },
     "execution_count": 134,
     "metadata": {},
     "output_type": "execute_result"
    }
   ],
   "source": [
    "dict1 = dict()\n",
    "\n",
    "for each, every in zip(job_data['City'], job_data['Job_Type']):\n",
    "    if each not in dict1:\n",
    "        dict1[each] = dict()\n",
    "    if every not in dict1[each]:\n",
    "        dict1[each][every] = 1\n",
    "    else:\n",
    "        dict1[each][every] += 1\n",
    "\n",
    "dict1"
   ]
  },
  {
   "cell_type": "code",
   "execution_count": 135,
   "metadata": {},
   "outputs": [
    {
     "data": {
      "image/png": "[encoded data removed]",
      "text/plain": [
       "<Figure size 432x288 with 5 Axes>"
      ]
     },
     "metadata": {
      "needs_background": "light"
     },
     "output_type": "display_data"
    }
   ],
   "source": [
    "import matplotlib.pyplot as plt\n",
    "\n",
    "#fig, axis = plt.subplots()\n",
    "count = 1\n",
    "for each in dict1:\n",
    "    #fig = plt.figure(figsize=(10,10))\n",
    "    #aix = fig.add_subplot(2,3,count)\n",
    "    plt.subplot(2,3,count)\n",
    "    #print(each)\n",
    "    job_data_each_city = dict1[each]\n",
    "    #job_data_each_city\n",
    "    #print(dict1[each])\n",
    "    names = list(job_data_each_city.keys())\n",
    "    values = list(job_data_each_city.values())\n",
    "    #print(names, values)\n",
    "    plt.bar(names, values)\n",
    "    #plt.xticks(names, rotation='vertical')\n",
    "    #aix.invert_yaxis()\n",
    "    count += 1\n",
    "plt.show()\n"
   ]
  },
  {
   "cell_type": "code",
   "execution_count": 146,
   "metadata": {},
   "outputs": [
    {
     "name": "stderr",
     "output_type": "stream",
     "text": [
      "/var/folders/1b/c_8cjgbj6lx42lnk62sdcg840000gn/T/ipykernel_32385/3484319311.py:26: UserWarning: FixedFormatter should only be used together with FixedLocator\n",
      "  ax[each, every].set_xticklabels(names, rotation=45)\n",
      "/var/folders/1b/c_8cjgbj6lx42lnk62sdcg840000gn/T/ipykernel_32385/3484319311.py:26: UserWarning: FixedFormatter should only be used together with FixedLocator\n",
      "  ax[each, every].set_xticklabels(names, rotation=45)\n",
      "/var/folders/1b/c_8cjgbj6lx42lnk62sdcg840000gn/T/ipykernel_32385/3484319311.py:26: UserWarning: FixedFormatter should only be used together with FixedLocator\n",
      "  ax[each, every].set_xticklabels(names, rotation=45)\n",
      "/var/folders/1b/c_8cjgbj6lx42lnk62sdcg840000gn/T/ipykernel_32385/3484319311.py:26: UserWarning: FixedFormatter should only be used together with FixedLocator\n",
      "  ax[each, every].set_xticklabels(names, rotation=45)\n",
      "/var/folders/1b/c_8cjgbj6lx42lnk62sdcg840000gn/T/ipykernel_32385/3484319311.py:26: UserWarning: FixedFormatter should only be used together with FixedLocator\n",
      "  ax[each, every].set_xticklabels(names, rotation=45)\n"
     ]
    },
    {
     "data": {
      "image/png": "[encoded data removed]",
      "text/plain": [
       "<Figure size 720x720 with 6 Axes>"
      ]
     },
     "metadata": {
      "needs_background": "light"
     },
     "output_type": "display_data"
    }
   ],
   "source": [
    "import matplotlib.pyplot as plt\n",
    "\n",
    "#define subplots\n",
    "#print(len(dict1))\n",
    "col = 3\n",
    "row = len(dict1) // col\n",
    "if row % col != 0:\n",
    "    row += 1\n",
    "#print(row)\n",
    "fig, ax = plt.subplots(row, col, figsize=(10,10))\n",
    "#fig.tight_layout()\n",
    "\n",
    "city_name_list = list(dict1.keys())\n",
    "#print(city_name_list)\n",
    "\n",
    "row_count = 0\n",
    "col_count = 0\n",
    "plt.subplots_adjust(bottom=8, right=1, top=10)\n",
    "for each in range(row):\n",
    "    for every in range(col):\n",
    "        if each * col + every < len(dict1):\n",
    "            job_data_each_city = dict1[city_name_list[each*col+every]]\n",
    "            names = list(job_data_each_city.keys())\n",
    "            values = list(job_data_each_city.values())            \n",
    "            ax[each, every].bar(names, values)\n",
    "            ax[each, every].set_xticklabels(names, rotation=45)\n",
    "#plt.draw()\n",
    "#plt.savefig(\"output.png\", dpi = 150)\n",
    "plt.show()"
   ]
  },
  {
   "cell_type": "code",
   "execution_count": null,
   "metadata": {},
   "outputs": [],
   "source": []
  }
 ],
 "metadata": {
  "interpreter": {
   "hash": "5603d69534832ac677bba4f9a65a09ecedcd0f87253a59c671065bc6ee7ee927"
  },
  "kernelspec": {
   "display_name": "Python 3.8.5 (conda)",
   "language": "python",
   "name": "python3"
  },
  "language_info": {
   "codemirror_mode": {
    "name": "ipython",
    "version": 3
   },
   "file_extension": ".py",
   "mimetype": "text/x-python",
   "name": "python",
   "nbconvert_exporter": "python",
   "pygments_lexer": "ipython3",
   "version": "3.8.5"
  },
  "orig_nbformat": 4
 },
 "nbformat": 4,
 "nbformat_minor": 2
}
